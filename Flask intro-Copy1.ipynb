{
 "cells": [
  {
   "cell_type": "code",
   "execution_count": null,
   "id": "3b2abdd8",
   "metadata": {},
   "outputs": [],
   "source": [
    "#!pip install flask\n"
   ]
  },
  {
   "cell_type": "code",
   "execution_count": 1,
   "id": "b43fd73a",
   "metadata": {},
   "outputs": [],
   "source": [
    "from flask import Flask"
   ]
  },
  {
   "cell_type": "code",
   "execution_count": 2,
   "id": "3725c85b",
   "metadata": {},
   "outputs": [],
   "source": [
    "# from sklearn.linear_model import LinearRegression\n",
    "# #------------------------------------------------------------------\n",
    "\n",
    "# reg = LinearRegression()\n",
    "# # Creating the instance of Linear Regression class\n",
    "\n",
    "# reg.fit(X,y)\n",
    "# # To use any method that is available in Lr class\n",
    "\n",
    "# This is just for your refernce"
   ]
  },
  {
   "cell_type": "code",
   "execution_count": 3,
   "id": "2121d25d",
   "metadata": {},
   "outputs": [
    {
     "name": "stdout",
     "output_type": "stream",
     "text": [
      " * Serving Flask app '__main__' (lazy loading)\n",
      " * Environment: production\n",
      "   WARNING: This is a development server. Do not use it in a production deployment.\n",
      "   Use a production WSGI server instead.\n",
      " * Debug mode: off\n"
     ]
    },
    {
     "name": "stderr",
     "output_type": "stream",
     "text": [
      " * Running on http://127.0.0.1:5000/ (Press CTRL+C to quit)\n",
      "127.0.0.1 - - [30/Oct/2022 11:46:00] \"GET / HTTP/1.1\" 200 -\n",
      "127.0.0.1 - - [30/Oct/2022 11:52:37] \"GET / HTTP/1.1\" 200 -\n"
     ]
    }
   ],
   "source": [
    "# Intialiaze the flask in the same way like we intialise the LR class\n",
    "app = Flask(__name__) #dir struct ir required __name__ take care of the struct\n",
    "\n",
    "# now we can use any functionality of app \n",
    "\n",
    "@app.route(\"/\")\n",
    "def homepage():\n",
    "    return \"AKASH we are enjoying the session\"\n",
    "\n",
    "app.run()"
   ]
  },
  {
   "cell_type": "code",
   "execution_count": 4,
   "id": "272c750d",
   "metadata": {},
   "outputs": [
    {
     "name": "stdout",
     "output_type": "stream",
     "text": [
      "hello\n"
     ]
    }
   ],
   "source": [
    "print(\"hello\")"
   ]
  },
  {
   "cell_type": "code",
   "execution_count": null,
   "id": "4a60e76d",
   "metadata": {},
   "outputs": [
    {
     "name": "stdout",
     "output_type": "stream",
     "text": [
      " * Serving Flask app '__main__' (lazy loading)\n",
      " * Environment: production\n",
      "   WARNING: This is a development server. Do not use it in a production deployment.\n",
      "   Use a production WSGI server instead.\n",
      " * Debug mode: off\n"
     ]
    },
    {
     "name": "stderr",
     "output_type": "stream",
     "text": [
      " * Running on http://127.0.0.1:5001/ (Press CTRL+C to quit)\n",
      "127.0.0.1 - - [30/Oct/2022 12:18:41] \"GET / HTTP/1.1\" 404 -\n",
      "127.0.0.1 - - [30/Oct/2022 12:18:41] \"GET /favicon.ico HTTP/1.1\" 200 -\n",
      "127.0.0.1 - - [30/Oct/2022 12:18:47] \"GET /prachi HTTP/1.1\" 200 -\n"
     ]
    }
   ],
   "source": [
    "# Intialiaze the flask in the same way like we intialise the LR class\n",
    "app = Flask(__name__) #dir struct ir required __name__ take care of the struct\n",
    "\n",
    "# now we can use any functionality of app \n",
    "\n",
    "@app.route(\"/<name>\")\n",
    "def homepage(name):\n",
    "    return \"<html><h1>Welcome \"+name+ \" to the session\"\n",
    "\n",
    "app.run(port =5001)"
   ]
  },
  {
   "cell_type": "code",
   "execution_count": null,
   "id": "c3897f60",
   "metadata": {},
   "outputs": [],
   "source": []
  }
 ],
 "metadata": {
  "kernelspec": {
   "display_name": "Python 3 (ipykernel)",
   "language": "python",
   "name": "python3"
  },
  "language_info": {
   "codemirror_mode": {
    "name": "ipython",
    "version": 3
   },
   "file_extension": ".py",
   "mimetype": "text/x-python",
   "name": "python",
   "nbconvert_exporter": "python",
   "pygments_lexer": "ipython3",
   "version": "3.8.8"
  }
 },
 "nbformat": 4,
 "nbformat_minor": 5
}
